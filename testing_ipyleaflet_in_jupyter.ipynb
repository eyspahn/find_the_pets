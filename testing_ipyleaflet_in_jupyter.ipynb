{
 "cells": [
  {
   "cell_type": "code",
   "execution_count": 7,
   "metadata": {},
   "outputs": [],
   "source": [
    "# testing out ipyleaflet on here, because shiny is problems\n",
    "# see example https://github.com/jupyter-widgets/ipyleaflet/blob/master/examples/GeoData_on_hover.ipynb\n",
    "\n",
    "from ipyleaflet import Map, GeoData, basemaps, LayersControl\n",
    "import geopandas as gpd\n",
    "import pandas as pd\n",
    "import json\n",
    "\n",
    "from pathlib import Path"
   ]
  },
  {
   "cell_type": "code",
   "execution_count": 2,
   "metadata": {},
   "outputs": [],
   "source": [
    "gdf = gpd.read_file(Path.cwd().joinpath('data').joinpath('clean_seattle_zipcodes.geojson'))\n"
   ]
  },
  {
   "cell_type": "code",
   "execution_count": 114,
   "metadata": {},
   "outputs": [
    {
     "data": {
      "text/plain": [
       "Index(['id', 'zipcode', 'geometry'], dtype='object')"
      ]
     },
     "execution_count": 114,
     "metadata": {},
     "output_type": "execute_result"
    }
   ],
   "source": [
    "gdf.columns"
   ]
  },
  {
   "cell_type": "code",
   "execution_count": 117,
   "metadata": {},
   "outputs": [],
   "source": [
    "gdf.zipcode = gdf.zipcode.astype('int64')"
   ]
  },
  {
   "cell_type": "code",
   "execution_count": 126,
   "metadata": {},
   "outputs": [
    {
     "data": {
      "text/plain": [
       "<Geographic 2D CRS: EPSG:4269>\n",
       "Name: NAD83\n",
       "Axis Info [ellipsoidal]:\n",
       "- Lat[north]: Geodetic latitude (degree)\n",
       "- Lon[east]: Geodetic longitude (degree)\n",
       "Area of Use:\n",
       "- name: North America - onshore and offshore: Canada - Alberta; British Columbia; Manitoba; New Brunswick; Newfoundland and Labrador; Northwest Territories; Nova Scotia; Nunavut; Ontario; Prince Edward Island; Quebec; Saskatchewan; Yukon. Puerto Rico. United States (USA) - Alabama; Alaska; Arizona; Arkansas; California; Colorado; Connecticut; Delaware; Florida; Georgia; Hawaii; Idaho; Illinois; Indiana; Iowa; Kansas; Kentucky; Louisiana; Maine; Maryland; Massachusetts; Michigan; Minnesota; Mississippi; Missouri; Montana; Nebraska; Nevada; New Hampshire; New Jersey; New Mexico; New York; North Carolina; North Dakota; Ohio; Oklahoma; Oregon; Pennsylvania; Rhode Island; South Carolina; South Dakota; Tennessee; Texas; Utah; Vermont; Virginia; Washington; West Virginia; Wisconsin; Wyoming. US Virgin Islands. British Virgin Islands.\n",
       "- bounds: (167.65, 14.92, -40.73, 86.45)\n",
       "Datum: North American Datum 1983\n",
       "- Ellipsoid: GRS 1980\n",
       "- Prime Meridian: Greenwich"
      ]
     },
     "execution_count": 126,
     "metadata": {},
     "output_type": "execute_result"
    }
   ],
   "source": [
    "gdf.crs"
   ]
  },
  {
   "cell_type": "code",
   "execution_count": 8,
   "metadata": {},
   "outputs": [],
   "source": [
    "df = pd.read_csv(Path.cwd().joinpath('data').joinpath('seattle_dogs_single_breed.csv'))\n"
   ]
  },
  {
   "cell_type": "code",
   "execution_count": 78,
   "metadata": {},
   "outputs": [
    {
     "data": {
      "text/plain": [
       "Index(['zip', 'breed', 'count'], dtype='object')"
      ]
     },
     "execution_count": 78,
     "metadata": {},
     "output_type": "execute_result"
    }
   ],
   "source": [
    "df.columns"
   ]
  },
  {
   "cell_type": "code",
   "execution_count": 9,
   "metadata": {},
   "outputs": [
    {
     "data": {
      "text/html": [
       "<div>\n",
       "<style scoped>\n",
       "    .dataframe tbody tr th:only-of-type {\n",
       "        vertical-align: middle;\n",
       "    }\n",
       "\n",
       "    .dataframe tbody tr th {\n",
       "        vertical-align: top;\n",
       "    }\n",
       "\n",
       "    .dataframe thead th {\n",
       "        text-align: right;\n",
       "    }\n",
       "</style>\n",
       "<table border=\"1\" class=\"dataframe\">\n",
       "  <thead>\n",
       "    <tr style=\"text-align: right;\">\n",
       "      <th></th>\n",
       "      <th>zip</th>\n",
       "      <th>breed</th>\n",
       "      <th>count</th>\n",
       "    </tr>\n",
       "  </thead>\n",
       "  <tbody>\n",
       "    <tr>\n",
       "      <th>0</th>\n",
       "      <td>98101</td>\n",
       "      <td>airedale terrier</td>\n",
       "      <td>1</td>\n",
       "    </tr>\n",
       "    <tr>\n",
       "      <th>1</th>\n",
       "      <td>98101</td>\n",
       "      <td>akita</td>\n",
       "      <td>1</td>\n",
       "    </tr>\n",
       "    <tr>\n",
       "      <th>2</th>\n",
       "      <td>98101</td>\n",
       "      <td>american eskimo</td>\n",
       "      <td>1</td>\n",
       "    </tr>\n",
       "    <tr>\n",
       "      <th>3</th>\n",
       "      <td>98101</td>\n",
       "      <td>australian shepherd</td>\n",
       "      <td>4</td>\n",
       "    </tr>\n",
       "    <tr>\n",
       "      <th>4</th>\n",
       "      <td>98101</td>\n",
       "      <td>basenji</td>\n",
       "      <td>1</td>\n",
       "    </tr>\n",
       "  </tbody>\n",
       "</table>\n",
       "</div>"
      ],
      "text/plain": [
       "     zip                breed  count\n",
       "0  98101     airedale terrier      1\n",
       "1  98101                akita      1\n",
       "2  98101      american eskimo      1\n",
       "3  98101  australian shepherd      4\n",
       "4  98101              basenji      1"
      ]
     },
     "execution_count": 9,
     "metadata": {},
     "output_type": "execute_result"
    }
   ],
   "source": [
    "df.head()"
   ]
  },
  {
   "cell_type": "code",
   "execution_count": null,
   "metadata": {},
   "outputs": [],
   "source": [
    "# so now, I would want zip, and in the RHS the dict of breeds & counts\n",
    "def data_prep_dogs_to_dict(df):\n",
    "   \"\"\"\n",
    "   Create a dictionary of breed counts per zip code.\n",
    "   - top breeds in each zip code\n",
    "   - able to extract number of a specific breed in each zip code\n",
    "\n",
    "   Returns dict of a dict: {zipcode:{breed:count})\n",
    "   \"\"\"\n",
    "\n",
    "   grouped = df.groupby('zip')\n",
    "   breed_counts_by_zip = {} # dict of a dict:  {zipcode:{breed:count})\n",
    "   for i, (name, df) in enumerate(grouped):\n",
    "      temp_dict = {} # note, there may be some null /empty dicts!\n",
    "      breed_count = df[['breed', 'count']].to_dict(orient='records') # list of breeds\n",
    "\n",
    "      # Let's sort the dictionaries by count, instead of alpha\n",
    "\n",
    "      for elem_dict in breed_count:\n",
    "         # e.g. unpack {'breed': 'australian shepherd', 'count': 4} to {'australian shepherd':4}\n",
    "         temp_dict.update({elem_dict.get('breed'): elem_dict.get('count')})\n",
    "         \n",
    "      # Let's sort the dictionaries by count, instead of alphabetically\n",
    "      breed_counts_by_zip[name] = dict(sorted(temp_dict.items(), key=lambda item: item[1], reverse=True))\n",
    "      \n",
    "   return breed_counts_by_zip\n",
    "\n",
    "zipdict = data_prep_dogs_to_dict(df)"
   ]
  },
  {
   "cell_type": "code",
   "execution_count": null,
   "metadata": {},
   "outputs": [
    {
     "data": {
      "text/plain": [
       "'                  index  count\\n0        french bulldog    7.0\\n1              shih tzu    7.0\\n2      golden retriever    6.0\\n3  short coat chihuahua    6.0\\n4    labrador retriever    5.0'"
      ]
     },
     "execution_count": 92,
     "metadata": {},
     "output_type": "execute_result"
    }
   ],
   "source": [
    "# type(pd.DataFrame(index=zipdict.keys(), data=zipdict.values()).loc[98101])\n",
    "# .loc will output a series.\n",
    "\n",
    "#(wrap in str())\n",
    "# following will return first 5 elements by count for each zip:\n",
    "# pd.DataFrame(index=zipdict.keys(), data=zipdict.values()).loc[98101].rename(index='count').sort_values(ascending=False)[:5].reset_index().to_string()\n"
   ]
  },
  {
   "cell_type": "code",
   "execution_count": null,
   "metadata": {},
   "outputs": [
    {
     "data": {
      "text/plain": [
       "\"{'french bulldog': 7.0, 'shih tzu': 7.0, 'golden retriever': 6.0, 'short coat chihuahua': 6.0, 'labrador retriever': 5.0}\""
      ]
     },
     "execution_count": 93,
     "metadata": {},
     "output_type": "execute_result"
    }
   ],
   "source": [
    "# following will return first 5 elements by count for a specific zip, as a dataframe or dict, (or string is wraapped with str)\n",
    "str(pd.DataFrame(index=zipdict.keys(), data=zipdict.values()).loc[98101].rename(index='count').sort_values(ascending=False)[:5].to_dict())"
   ]
  },
  {
   "cell_type": "code",
   "execution_count": null,
   "metadata": {},
   "outputs": [],
   "source": [
    "# top_breeds_by_zip_df.to_csv('top_5_breeds_by_zip.csv', index=False)"
   ]
  },
  {
   "cell_type": "code",
   "execution_count": 89,
   "metadata": {},
   "outputs": [
    {
     "data": {
      "text/plain": [
       "\"{'french bulldog': 7.0, 'shih tzu': 7.0, 'golden retriever': 6.0, 'short coat chihuahua': 6.0, 'labrador retriever': 5.0}\""
      ]
     },
     "execution_count": 89,
     "metadata": {},
     "output_type": "execute_result"
    }
   ],
   "source": [
    "str(pd.DataFrame(index=zipdict.keys(), data=zipdict.values()).loc[98101].rename(index='count').sort_values(ascending=False)[:5].to_dict( ))"
   ]
  },
  {
   "cell_type": "code",
   "execution_count": null,
   "metadata": {},
   "outputs": [],
   "source": [
    "\n",
    "\n",
    "\n",
    "# okay, this is kind of ugly, but here we go:\n",
    "top_breeds_by_zip_df = pd.DataFrame()\n",
    "\n",
    "# df is the dog containing data\n",
    "for zipcode in df.zip.unique():\n",
    "    zip_top_dogs_str = str(pd.DataFrame(index=zipdict.keys(), data=zipdict.values()).loc[zipcode].rename(index='count').sort_values(ascending=False)[:5].to_dict())\n",
    "    top_breeds_by_zip_df = pd.concat([top_breeds_by_zip_df, pd.DataFrame(data={'zip': [zipcode], 'top_5_breeds': [zip_top_dogs_str]})], axis=0)"
   ]
  },
  {
   "cell_type": "code",
   "execution_count": null,
   "metadata": {},
   "outputs": [
    {
     "data": {
      "text/html": [
       "<div>\n",
       "<style scoped>\n",
       "    .dataframe tbody tr th:only-of-type {\n",
       "        vertical-align: middle;\n",
       "    }\n",
       "\n",
       "    .dataframe tbody tr th {\n",
       "        vertical-align: top;\n",
       "    }\n",
       "\n",
       "    .dataframe thead th {\n",
       "        text-align: right;\n",
       "    }\n",
       "</style>\n",
       "<table border=\"1\" class=\"dataframe\">\n",
       "  <thead>\n",
       "    <tr style=\"text-align: right;\">\n",
       "      <th></th>\n",
       "      <th>zip</th>\n",
       "      <th>top_5_breeds</th>\n",
       "    </tr>\n",
       "  </thead>\n",
       "  <tbody>\n",
       "    <tr>\n",
       "      <th>0</th>\n",
       "      <td>98101</td>\n",
       "      <td>{'french bulldog': 7.0, 'shih tzu': 7.0, 'gold...</td>\n",
       "    </tr>\n",
       "    <tr>\n",
       "      <th>0</th>\n",
       "      <td>98102</td>\n",
       "      <td>{'labrador retriever': 29.0, 'golden retriever...</td>\n",
       "    </tr>\n",
       "    <tr>\n",
       "      <th>0</th>\n",
       "      <td>98103</td>\n",
       "      <td>{'labrador retriever': 74.0, 'golden retriever...</td>\n",
       "    </tr>\n",
       "    <tr>\n",
       "      <th>0</th>\n",
       "      <td>98104</td>\n",
       "      <td>{'short coat chihuahua': 10.0, 'miniature long...</td>\n",
       "    </tr>\n",
       "    <tr>\n",
       "      <th>0</th>\n",
       "      <td>98105</td>\n",
       "      <td>{'labrador retriever': 54.0, 'golden retriever...</td>\n",
       "    </tr>\n",
       "  </tbody>\n",
       "</table>\n",
       "</div>"
      ],
      "text/plain": [
       "     zip                                       top_5_breeds\n",
       "0  98101  {'french bulldog': 7.0, 'shih tzu': 7.0, 'gold...\n",
       "0  98102  {'labrador retriever': 29.0, 'golden retriever...\n",
       "0  98103  {'labrador retriever': 74.0, 'golden retriever...\n",
       "0  98104  {'short coat chihuahua': 10.0, 'miniature long...\n",
       "0  98105  {'labrador retriever': 54.0, 'golden retriever..."
      ]
     },
     "execution_count": 111,
     "metadata": {},
     "output_type": "execute_result"
    }
   ],
   "source": [
    "top_breeds_by_zip_df.head() # looks like that works "
   ]
  },
  {
   "cell_type": "code",
   "execution_count": 116,
   "metadata": {},
   "outputs": [
    {
     "data": {
      "text/plain": [
       "zip              int64\n",
       "top_5_breeds    object\n",
       "dtype: object"
      ]
     },
     "execution_count": 116,
     "metadata": {},
     "output_type": "execute_result"
    }
   ],
   "source": [
    "top_breeds_by_zip_df.dtypes"
   ]
  },
  {
   "cell_type": "code",
   "execution_count": 119,
   "metadata": {},
   "outputs": [],
   "source": [
    "# join with gdf, so we can show top breeds\n",
    "\n",
    "gdf = gdf.merge(top_breeds_by_zip_df, how='inner', left_on='zipcode', right_on='zip')"
   ]
  },
  {
   "cell_type": "code",
   "execution_count": 120,
   "metadata": {},
   "outputs": [
    {
     "data": {
      "text/html": [
       "<div>\n",
       "<style scoped>\n",
       "    .dataframe tbody tr th:only-of-type {\n",
       "        vertical-align: middle;\n",
       "    }\n",
       "\n",
       "    .dataframe tbody tr th {\n",
       "        vertical-align: top;\n",
       "    }\n",
       "\n",
       "    .dataframe thead th {\n",
       "        text-align: right;\n",
       "    }\n",
       "</style>\n",
       "<table border=\"1\" class=\"dataframe\">\n",
       "  <thead>\n",
       "    <tr style=\"text-align: right;\">\n",
       "      <th></th>\n",
       "      <th>id</th>\n",
       "      <th>zipcode</th>\n",
       "      <th>geometry</th>\n",
       "      <th>zip</th>\n",
       "      <th>top_5_breeds</th>\n",
       "    </tr>\n",
       "  </thead>\n",
       "  <tbody>\n",
       "    <tr>\n",
       "      <th>0</th>\n",
       "      <td>98391</td>\n",
       "      <td>98391</td>\n",
       "      <td>MULTIPOLYGON (((-122.14398 47.25753, -122.1439...</td>\n",
       "      <td>98391</td>\n",
       "      <td>{'siberian husky': 1.0, 'french bulldog': nan,...</td>\n",
       "    </tr>\n",
       "    <tr>\n",
       "      <th>1</th>\n",
       "      <td>98136</td>\n",
       "      <td>98136</td>\n",
       "      <td>MULTIPOLYGON (((-122.40573 47.55960, -122.4039...</td>\n",
       "      <td>98136</td>\n",
       "      <td>{'labrador retriever': 42.0, 'golden retriever...</td>\n",
       "    </tr>\n",
       "    <tr>\n",
       "      <th>2</th>\n",
       "      <td>98144</td>\n",
       "      <td>98144</td>\n",
       "      <td>MULTIPOLYGON (((-122.32061 47.59178, -122.3205...</td>\n",
       "      <td>98144</td>\n",
       "      <td>{'labrador retriever': 41.0, 'golden retriever...</td>\n",
       "    </tr>\n",
       "    <tr>\n",
       "      <th>3</th>\n",
       "      <td>98146</td>\n",
       "      <td>98146</td>\n",
       "      <td>MULTIPOLYGON (((-122.39602 47.51371, -122.3956...</td>\n",
       "      <td>98146</td>\n",
       "      <td>{'labrador retriever': 14.0, 'golden retriever...</td>\n",
       "    </tr>\n",
       "    <tr>\n",
       "      <th>4</th>\n",
       "      <td>98155</td>\n",
       "      <td>98155</td>\n",
       "      <td>MULTIPOLYGON (((-122.33056 47.75442, -122.3305...</td>\n",
       "      <td>98155</td>\n",
       "      <td>{'boxer': 1.0, 'miniature smooth haired dachsh...</td>\n",
       "    </tr>\n",
       "  </tbody>\n",
       "</table>\n",
       "</div>"
      ],
      "text/plain": [
       "      id  zipcode                                           geometry    zip  \\\n",
       "0  98391    98391  MULTIPOLYGON (((-122.14398 47.25753, -122.1439...  98391   \n",
       "1  98136    98136  MULTIPOLYGON (((-122.40573 47.55960, -122.4039...  98136   \n",
       "2  98144    98144  MULTIPOLYGON (((-122.32061 47.59178, -122.3205...  98144   \n",
       "3  98146    98146  MULTIPOLYGON (((-122.39602 47.51371, -122.3956...  98146   \n",
       "4  98155    98155  MULTIPOLYGON (((-122.33056 47.75442, -122.3305...  98155   \n",
       "\n",
       "                                        top_5_breeds  \n",
       "0  {'siberian husky': 1.0, 'french bulldog': nan,...  \n",
       "1  {'labrador retriever': 42.0, 'golden retriever...  \n",
       "2  {'labrador retriever': 41.0, 'golden retriever...  \n",
       "3  {'labrador retriever': 14.0, 'golden retriever...  \n",
       "4  {'boxer': 1.0, 'miniature smooth haired dachsh...  "
      ]
     },
     "execution_count": 120,
     "metadata": {},
     "output_type": "execute_result"
    }
   ],
   "source": [
    "gdf.head()"
   ]
  },
  {
   "cell_type": "code",
   "execution_count": 121,
   "metadata": {},
   "outputs": [],
   "source": [
    "# let's get rid of the extra columns\n",
    "gdf = gdf[['zip', 'geometry', 'top_5_breeds']]"
   ]
  },
  {
   "cell_type": "code",
   "execution_count": null,
   "metadata": {},
   "outputs": [],
   "source": []
  },
  {
   "cell_type": "code",
   "execution_count": null,
   "metadata": {},
   "outputs": [],
   "source": []
  },
  {
   "cell_type": "code",
   "execution_count": null,
   "metadata": {},
   "outputs": [],
   "source": []
  },
  {
   "cell_type": "code",
   "execution_count": null,
   "metadata": {},
   "outputs": [],
   "source": []
  },
  {
   "cell_type": "code",
   "execution_count": null,
   "metadata": {},
   "outputs": [],
   "source": []
  },
  {
   "cell_type": "code",
   "execution_count": null,
   "metadata": {},
   "outputs": [],
   "source": []
  },
  {
   "cell_type": "code",
   "execution_count": null,
   "metadata": {},
   "outputs": [],
   "source": [
    "# Okay, mapping stuff here."
   ]
  },
  {
   "cell_type": "code",
   "execution_count": 122,
   "metadata": {},
   "outputs": [
    {
     "data": {
      "application/vnd.jupyter.widget-view+json": {
       "model_id": "04ea73d926684737b71f6f2e7b4fd900",
       "version_major": 2,
       "version_minor": 0
      },
      "text/plain": [
       "Map(center=[47.6062, -122.33207], controls=(ZoomControl(options=['position', 'zoom_in_text', 'zoom_in_title', …"
      ]
     },
     "execution_count": 122,
     "metadata": {},
     "output_type": "execute_result"
    }
   ],
   "source": [
    "m = Map(center=(47.6062, -122.33207), zoom=10)\n",
    "geo_data = GeoData(\n",
    "    geo_dataframe=gdf,\n",
    "    style={\n",
    "        \"color\": \"black\",\n",
    "        \"fillColor\": \"#366370\",\n",
    "        \"opacity\": 0.05,\n",
    "        \"weight\": 1.9,\n",
    "        \"dashArray\": \"2\",\n",
    "        \"fillOpacity\": 0.3,\n",
    "    },\n",
    "    hover_style={\"fillColor\": \"#b08a3e\", \"fillOpacity\": 0.1},\n",
    ")\n",
    "m.add(geo_data)\n",
    "m"
   ]
  },
  {
   "cell_type": "code",
   "execution_count": 123,
   "metadata": {},
   "outputs": [
    {
     "data": {
      "application/vnd.jupyter.widget-view+json": {
       "model_id": "04ea73d926684737b71f6f2e7b4fd900",
       "version_major": 2,
       "version_minor": 0
      },
      "text/plain": [
       "Map(bottom=91752.0, center=[47.6062, -122.33207], controls=(ZoomControl(options=['position', 'zoom_in_text', '…"
      ]
     },
     "execution_count": 123,
     "metadata": {},
     "output_type": "execute_result"
    }
   ],
   "source": [
    "from ipywidgets import Text, HTML\n",
    "from ipyleaflet import WidgetControl, GeoJSON\n",
    "\n",
    "\n",
    "html = HTML(\"\"\"Hover over a zip\"\"\")\n",
    "html.layout.margin = \"0px 20px 20px 20px\"\n",
    "control = WidgetControl(widget=html, position=\"topright\")\n",
    "m.add(control)"
   ]
  },
  {
   "cell_type": "code",
   "execution_count": null,
   "metadata": {},
   "outputs": [],
   "source": [
    "def update_html(feature, **kwargs):\n",
    "    html.value = f\"\"\"{feature[\"properties\"]}\n",
    "    \"\"\"\n",
    "    \n",
    "geo_data.on_hover(update_html)\n",
    "\n",
    "# yay this works"
   ]
  },
  {
   "cell_type": "code",
   "execution_count": null,
   "metadata": {},
   "outputs": [],
   "source": []
  }
 ],
 "metadata": {
  "kernelspec": {
   "display_name": "base_venv",
   "language": "python",
   "name": "python3"
  },
  "language_info": {
   "codemirror_mode": {
    "name": "ipython",
    "version": 3
   },
   "file_extension": ".py",
   "mimetype": "text/x-python",
   "name": "python",
   "nbconvert_exporter": "python",
   "pygments_lexer": "ipython3",
   "version": "3.11.8"
  }
 },
 "nbformat": 4,
 "nbformat_minor": 2
}
