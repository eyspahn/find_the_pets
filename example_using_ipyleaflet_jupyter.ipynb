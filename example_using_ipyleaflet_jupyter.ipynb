{
 "cells": [
  {
   "cell_type": "markdown",
   "metadata": {},
   "source": [
    "Building an example of a map & interaction I'm looking for, using ipyleaflet.\n",
    "May not include the breed selector"
   ]
  },
  {
   "cell_type": "code",
   "execution_count": 1,
   "metadata": {},
   "outputs": [],
   "source": [
    "from ipyleaflet import Map, GeoData, Choropleth, basemaps, LayersControl\n",
    "import geopandas as gpd\n",
    "import pandas as pd\n",
    "import json\n",
    "\n",
    "from pathlib import Path\n",
    "\n",
    "from branca.colormap import linear\n",
    "\n",
    "from ipywidgets import Text, HTML, Dropdown, Output\n",
    "from ipyleaflet import WidgetControl, GeoJSON\n"
   ]
  },
  {
   "cell_type": "code",
   "execution_count": 2,
   "metadata": {},
   "outputs": [],
   "source": [
    "geo_filepath = Path.cwd().joinpath('data').joinpath('clean_seattle_zipcodes.geojson')"
   ]
  },
  {
   "cell_type": "code",
   "execution_count": 3,
   "metadata": {},
   "outputs": [],
   "source": [
    "gdf = gpd.read_file(geo_filepath)\n",
    "gdf.zipcode = gdf.zipcode.astype('int64')\n",
    "\n",
    "with open(geo_filepath, 'r') as f:\n",
    "   geodata = json.load(f)"
   ]
  },
  {
   "cell_type": "code",
   "execution_count": 4,
   "metadata": {},
   "outputs": [],
   "source": [
    "df = pd.read_csv(Path.cwd().joinpath('data').joinpath('seattle_dogs_single_breed.csv'))"
   ]
  },
  {
   "cell_type": "code",
   "execution_count": 5,
   "metadata": {},
   "outputs": [],
   "source": [
    "top_breeds_by_zip_df = pd.read_csv(Path.cwd().joinpath('data').joinpath('top_5_breeds_by_zip.csv'))"
   ]
  },
  {
   "cell_type": "code",
   "execution_count": 6,
   "metadata": {},
   "outputs": [],
   "source": [
    "gdf = gdf.merge(top_breeds_by_zip_df, how='inner', left_on='zipcode', right_on='zip')\n",
    "\n",
    "# keep only relevant columns\n",
    "gdf = gdf[['zip', 'geometry', 'top_5_breeds']]\n"
   ]
  },
  {
   "cell_type": "code",
   "execution_count": 7,
   "metadata": {},
   "outputs": [],
   "source": [
    "# breed_dropdown = Dropdown(\n",
    "#     options=sorted(list(df.breed.unique())),\n",
    "#     # value=df.breed.unique(),\n",
    "#     description='breed:',\n",
    "#     disabled=False,\n",
    "# )\n",
    "# display(breed_dropdown)"
   ]
  },
  {
   "cell_type": "code",
   "execution_count": 21,
   "metadata": {},
   "outputs": [],
   "source": [
    "# labrador retriever, golden retriever, aussies are most common\n",
    "selected_breed = 'labrador retriever'\n",
    "\n",
    "raw_df = df[df.breed==selected_breed][['zip', 'count']]\n",
    "gdf = gdf.merge(raw_df, how='inner', on='zip')\n",
    "gdf.rename(columns={'count':f\"{selected_breed}_count\"}, inplace=True)\n",
    "# gdf = gdf[['zip', 'geometry', 'top_5_breeds']]\n",
    "# gdf.head()\n",
    "\n",
    "gdf = gdf[['zip', 'geometry', f\"{selected_breed}_count\", \"top_5_breeds\"]]\n"
   ]
  },
  {
   "cell_type": "code",
   "execution_count": 9,
   "metadata": {},
   "outputs": [],
   "source": [
    "# and for choropleth, need json things\n",
    "# Need all the data\n",
    "df.to_dict()\n",
    "raw = raw_df.to_dict('records') # list[dict]\n",
    "choro_data = {}\n",
    "\n",
    "for elem in raw:\n",
    "    choro_data[str(elem['zip'])] = elem['count']\n",
    "\n",
    "# add zeros to zips that are not in the resulting dataset:\n",
    "for elem in geodata['features']:\n",
    "    if elem['id'] not in choro_data.keys():\n",
    "        choro_data[elem['id']] = 0"
   ]
  },
  {
   "cell_type": "code",
   "execution_count": 18,
   "metadata": {},
   "outputs": [],
   "source": [
    "m = Map(center=(47.6062, -122.33207), zoom=10)\n",
    "\n",
    "layer = Choropleth(\n",
    "    geo_data = geodata,\n",
    "    choro_data = choro_data,\n",
    "    colormap = linear.PRGn_11,\n",
    "    nan_opacity=0,\n",
    "    border_color='black',\n",
    "    style = {'fillOpacity':0.3 }\n",
    ")\n",
    "\n",
    "m.add(layer)\n",
    "\n",
    "# click layer\n",
    "geo_data = GeoData(\n",
    "    geo_dataframe=gdf,\n",
    "    style={\n",
    "        \"color\": \"black\",\n",
    "        \"fillColor\": \"#366370\",\n",
    "        \"opacity\": 0, # 0.05,\n",
    "        \"weight\": 1.9,\n",
    "        \"dashArray\": \"2\",\n",
    "        \"fillOpacity\": 0, # 0.4,\n",
    "    },\n",
    "    hover_style={\"fillColor\": \"#b08a3e\", \"fillOpacity\": 0.1},\n",
    ")\n",
    "m.add(geo_data)\n",
    "\n",
    "\n",
    "html = HTML(\"\"\"Hover over\"\"\")\n",
    "html.layout.margin = \"0px 20px 20px 20px\"\n",
    "control = WidgetControl(widget=html, position=\"bottomright\")\n",
    "m.add(control)\n",
    "\n",
    "def update_html(feature, **kwargs):\n",
    "    html.value = f\"\"\"{feature[\"properties\"]}\n",
    "    \"\"\"\n",
    "    \n",
    "geo_data.on_hover(update_html)\n"
   ]
  },
  {
   "cell_type": "code",
   "execution_count": 20,
   "metadata": {},
   "outputs": [
    {
     "data": {
      "application/vnd.jupyter.widget-view+json": {
       "model_id": "4314d272a99940b899b9a25744f85192",
       "version_major": 2,
       "version_minor": 0
      },
      "text/plain": [
       "Map(bottom=91785.0, center=[47.57559927673143, -122.20840189691685], controls=(ZoomControl(options=['position'…"
      ]
     },
     "execution_count": 20,
     "metadata": {},
     "output_type": "execute_result"
    }
   ],
   "source": [
    "m"
   ]
  },
  {
   "cell_type": "markdown",
   "metadata": {},
   "source": []
  },
  {
   "cell_type": "code",
   "execution_count": null,
   "metadata": {},
   "outputs": [],
   "source": []
  }
 ],
 "metadata": {
  "kernelspec": {
   "display_name": "base_venv",
   "language": "python",
   "name": "python3"
  },
  "language_info": {
   "codemirror_mode": {
    "name": "ipython",
    "version": 3
   },
   "file_extension": ".py",
   "mimetype": "text/x-python",
   "name": "python",
   "nbconvert_exporter": "python",
   "pygments_lexer": "ipython3",
   "version": "3.11.8"
  }
 },
 "nbformat": 4,
 "nbformat_minor": 2
}
